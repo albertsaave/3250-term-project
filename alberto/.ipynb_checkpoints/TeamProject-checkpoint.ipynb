{
 "cells": [
  {
   "cell_type": "code",
   "execution_count": null,
   "metadata": {},
   "outputs": [],
   "source": [
    "from IPython.core.interactiveshell import InteractiveShell\n",
    "InteractiveShell.ast_node_interactivity = \"all\""
   ]
  },
  {
   "cell_type": "code",
   "execution_count": null,
   "metadata": {},
   "outputs": [],
   "source": []
  },
  {
   "cell_type": "code",
   "execution_count": null,
   "metadata": {},
   "outputs": [],
   "source": [
    "import pandas as pd\n",
    "import numpy as np\n",
    "import matplotlib as mpl\n",
    "import matplotlib.pyplot as plt\n",
    "%pylab inline\n",
    "%matplotlib inline\n"
   ]
  },
  {
   "cell_type": "markdown",
   "metadata": {},
   "source": [
    "### Data Schema Analysis"
   ]
  },
  {
   "cell_type": "code",
   "execution_count": null,
   "metadata": {},
   "outputs": [],
   "source": [
    "multiple_choice_responses_df = pd.read_csv(\"../kaggle-survey-2017/multipleChoiceResponses.csv\")\n",
    "\n",
    "multiple_choice_responses_df.head()\n",
    "\n",
    "multiple_choice_responses_df.shape"
   ]
  },
  {
   "cell_type": "markdown",
   "metadata": {},
   "source": [
    "##  Column Schema on Multiple Choice Responses"
   ]
  },
  {
   "cell_type": "code",
   "execution_count": null,
   "metadata": {},
   "outputs": [],
   "source": [
    "schema_df = pd.read_csv(\"../kaggle-survey-2017/schema.csv\")\n",
    "schema_df = schema_df.set_index('Column' )\n",
    "with pd.option_context('display.max_rows', 300):\n",
    "    schema_df\n",
    "\n"
   ]
  },
  {
   "cell_type": "markdown",
   "metadata": {},
   "source": [
    "## Nice Columns Multiple Choice Responses Full View "
   ]
  },
  {
   "cell_type": "code",
   "execution_count": null,
   "metadata": {},
   "outputs": [],
   "source": [
    "nice_columns_multiple_choice_responses_df = multiple_choice_responses_df.copy()\n",
    "nice_columns_multiple_choice_responses_df.columns = nice_columns_multiple_choice_responses_df.columns.map(\n",
    "    schema_df.set_index('Column')['Question'].get)\n",
    "\n",
    "with pd.option_context('display.max_columns', 0):\n",
    "    nice_columns_multiple_choice_responses_df.head(5)\n"
   ]
  },
  {
   "cell_type": "code",
   "execution_count": null,
   "metadata": {},
   "outputs": [],
   "source": [
    "freeform_col_names = schema_df[schema_df['Column'].str.contains(\"FreeForm\")].shape[0]\n",
    "total_col_names = schema_df.shape[0]\n",
    "\n",
    "print('Number of free form columns: ', freeform_col_names)\n",
    "print('Total Number of columns: ', total_col_names)\n",
    "\n",
    "\n"
   ]
  },
  {
   "cell_type": "markdown",
   "metadata": {},
   "source": [
    "### Unique Values per Column"
   ]
  },
  {
   "cell_type": "code",
   "execution_count": null,
   "metadata": {},
   "outputs": [],
   "source": [
    "with pd.option_context('display.max_rows', 228):\n",
    "    multiple_choice_responses_df.nunique().sort_values(ascending=False)"
   ]
  },
  {
   "cell_type": "markdown",
   "metadata": {},
   "source": [
    "### Top Unique Non-Missing Data"
   ]
  },
  {
   "cell_type": "code",
   "execution_count": null,
   "metadata": {},
   "outputs": [],
   "source": [
    "unique_answers = multiple_choice_responses_df.nunique().sort_values(ascending=False)\n",
    "unique_answers_df = pd.DataFrame({'Column': unique_answers.index, 'UniqueCount': unique_answers.values})\n",
    "unique_answers_df = unique_answers_df.set_index('Column')\n",
    "\n",
    "total = multiple_choice_responses_df.isnull().sum().sort_values(ascending=False)\n",
    "percent = multiple_choice_responses_df.isnull().sum()/multiple_choice_responses_df.isnull().count().sort_values(ascending=False)\n",
    "missing_data = pd.concat([total,percent],axis=1, keys=['Total','Percent'],sort=True)\n",
    "missing_data = missing_data.Percent.sort_values()\n",
    "\n",
    "missing_data_df = pd.DataFrame({'Column': missing_data.index, 'MissingPercent': missing_data.values})\n",
    "missing_data_df = missing_data_df.set_index('Column')\n",
    "\n"
   ]
  },
  {
   "cell_type": "code",
   "execution_count": null,
   "metadata": {},
   "outputs": [],
   "source": [
    "all_missing_unique_data_df = pd.concat([unique_answers_df, missing_data_df], axis=1, sort=True)\n",
    "all_missing_unique_data_df = all_missing_unique_data_df.sort_values('MissingPercent')\n",
    "top_mssing_unique_df = all_missing_unique_data_df.head(20)\n",
    "top_mssing_unique_df.sort_values('UniqueCount')"
   ]
  },
  {
   "cell_type": "code",
   "execution_count": null,
   "metadata": {},
   "outputs": [],
   "source": [
    "multiple_choice_responses_df['WorkMethodsSelect'].head(10)"
   ]
  },
  {
   "cell_type": "code",
   "execution_count": null,
   "metadata": {},
   "outputs": [],
   "source": [
    "multiple_choice_responses_df['LearningPlatformSelect'].head(10)"
   ]
  },
  {
   "cell_type": "code",
   "execution_count": null,
   "metadata": {},
   "outputs": [],
   "source": [
    "multiple_choice_responses_df['Tenure'].head(10)"
   ]
  },
  {
   "cell_type": "code",
   "execution_count": null,
   "metadata": {},
   "outputs": [],
   "source": [
    "multiple_choice_responses_df['FirstTrainingSelect'].head(10)"
   ]
  },
  {
   "cell_type": "markdown",
   "metadata": {},
   "source": [
    "### Data Analysis\n",
    "\n",
    "#### How long have you been writing code to analyze data? (Asked to all participants)"
   ]
  },
  {
   "cell_type": "code",
   "execution_count": null,
   "metadata": {},
   "outputs": [],
   "source": [
    "plt.figure(figsize=(9,9))\n",
    "tenure_time = multiple_choice_responses_df['Tenure'].value_counts()\n",
    "plt.pie(tenure_time,labels= tenure_time.index,autopct='%.0f%%')\n",
    "centre_circle = plt.Circle((0,0),0.75,color='black', fc='white',linewidth=1.25)\n",
    "plt.title('How long have you been writing code to analyze data?')\n"
   ]
  },
  {
   "cell_type": "markdown",
   "metadata": {},
   "source": [
    "#### Tenure vs LanguageRecommendationSelect\n",
    "[Findings] What languages are more recommended based on Job Tenure?"
   ]
  },
  {
   "cell_type": "code",
   "execution_count": null,
   "metadata": {},
   "outputs": [],
   "source": [
    "tenure_language = pd.crosstab(multiple_choice_responses_df['LanguageRecommendationSelect'],multiple_choice_responses_df['Tenure'],margins=True)\n",
    "tenure_language = tenure_language.sort_values('All', ascending=False)\n",
    "tenure_language"
   ]
  },
  {
   "cell_type": "code",
   "execution_count": null,
   "metadata": {},
   "outputs": [],
   "source": [
    "tenure_language.iloc[1:4, :-1]\n",
    "tenure_language.iloc[1:4, :-1].plot.bar()\n",
    "plt.legend(title='mark')\n",
    "\n",
    "plt.show()"
   ]
  },
  {
   "cell_type": "markdown",
   "metadata": {},
   "source": [
    "### Salary Compensation"
   ]
  },
  {
   "cell_type": "code",
   "execution_count": null,
   "metadata": {},
   "outputs": [],
   "source": [
    "conversion_rates_df = pd.read_csv(\"../kaggle-survey-2017/conversionRates.csv\", usecols=[\"originCountry\", \"exchangeRate\"] )\n",
    "conversion_rates_df.columns = ['CompensationCurrency','ExchangeRate']\n",
    "conversion_rates_df\n",
    "\n",
    "# multiple_choice_responses_df['CompensationAmount'] = multiple_choice_responses_df['CompensationAmount'].iloc[:].str.replace(',','')\n",
    "# multiple_choice_responses_df['CompensationAmount'] = multiple_choice_responses_df['CompensationAmount'].iloc[:].str.replace('-','')\n",
    "# multiple_choice_responses_df['CompensationAmount'] = pd.to_numeric(multiple_choice_responses_df['CompensationAmount'])\n",
    "\n",
    "# multiple_choice_responses_df = pd.merge(multiple_choice_responses_df, b, on=['CompensationCurrency'])\n",
    "# multiple_choice_responses_df"
   ]
  },
  {
   "cell_type": "markdown",
   "metadata": {},
   "source": [
    "### TODO\n",
    "#### FirstTrainingSelect\n",
    "\n",
    "Correlation\n",
    "\n",
    "2 - Salary vs Language (Compensation Amount )\n",
    "\n",
    "3 - Time spent modelling \n",
    "TimeFindingInsights\n",
    "\n",
    "4- JobFactor Salary\n",
    "Tenure vs language | employment\n",
    "\n",
    "5 - Learning Data Science\n",
    "LanguageRecommendationSelect\n",
    "PublicDatasetsSelect\n",
    "\n",
    "6 - JobSkillImportancePython\n",
    "JobSkillImportanceEnterpriseTools\n",
    "\n",
    "\n",
    "CareerSwitcher -> Gender\n",
    "CareerSwitcher -> Learning\n",
    "CareerSwitcher -> \n",
    "\n",
    "Language usage at work vs learning\n",
    "CodeWriter vs something"
   ]
  },
  {
   "cell_type": "code",
   "execution_count": null,
   "metadata": {},
   "outputs": [],
   "source": []
  }
 ],
 "metadata": {
  "kernelspec": {
   "display_name": "Python 3",
   "language": "python",
   "name": "python3"
  },
  "language_info": {
   "codemirror_mode": {
    "name": "ipython",
    "version": 3
   },
   "file_extension": ".py",
   "mimetype": "text/x-python",
   "name": "python",
   "nbconvert_exporter": "python",
   "pygments_lexer": "ipython3",
   "version": "3.6.5"
  }
 },
 "nbformat": 4,
 "nbformat_minor": 2
}

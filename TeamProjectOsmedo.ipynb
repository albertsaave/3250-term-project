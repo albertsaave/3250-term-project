{
 "cells": [
  {
   "cell_type": "code",
   "execution_count": 3,
   "metadata": {},
   "outputs": [
    {
     "name": "stderr",
     "output_type": "stream",
     "text": [
      "'pwd' is not recognized as an internal or external command,\n",
      "operable program or batch file.\n"
     ]
    }
   ],
   "source": [
    "from IPython.core.interactiveshell import InteractiveShell\n",
    "InteractiveShell.ast_node_interactivity = \"all\"\n",
    "!pwd"
   ]
  },
  {
   "cell_type": "code",
   "execution_count": 1,
   "metadata": {},
   "outputs": [],
   "source": [
    "import numpy as np\n",
    "import pandas as pd\n",
    "df = pd.read_csv('datasets/police-department-calls-for-service.csv')\n",
    "#df.head()\n",
    "#df.tail()\n"
   ]
  },
  {
   "cell_type": "code",
   "execution_count": 24,
   "metadata": {},
   "outputs": [
    {
     "data": {
      "text/plain": [
       "RangeIndex(start=0, stop=2132591, step=1)"
      ]
     },
     "execution_count": 24,
     "metadata": {},
     "output_type": "execute_result"
    }
   ],
   "source": [
    "df.index\n"
   ]
  },
  {
   "cell_type": "code",
   "execution_count": 25,
   "metadata": {},
   "outputs": [
    {
     "data": {
      "text/plain": [
       "Index(['Crime Id', 'Original Crime Type Name', 'Report Date', 'Call Date',\n",
       "       'Offense Date', 'Call Time', 'Call Date Time', 'Disposition', 'Address',\n",
       "       'City', 'State', 'Agency Id', 'Address Type', 'Common Location'],\n",
       "      dtype='object')"
      ]
     },
     "execution_count": 25,
     "metadata": {},
     "output_type": "execute_result"
    },
    {
     "data": {
      "text/plain": [
       "array([[160942891, 'Muni Inspection', '2016-04-03T00:00:00', ..., 1,\n",
       "        'Common Location', 'West Portal Muni, Sf'],\n",
       "       [160930487, '913', '2016-04-02T00:00:00', ..., 1, 'Intersection',\n",
       "        nan],\n",
       "       [160941602, 'Passing Call', '2016-04-03T00:00:00', ..., 1,\n",
       "        'Common Location', 'Fishermans Wharf, Sf'],\n",
       "       ...,\n",
       "       [182984386, 'Passing Call', '2018-10-25T00:00:00', ..., 1,\n",
       "        'Common Location', 'Gg Park Tennis Courts'],\n",
       "       [182984388, 'Passing Call', '2018-10-25T00:00:00', ..., 1,\n",
       "        'Geo-Override', nan],\n",
       "       [182984396, 'Auto Boost / Strip', '2018-10-25T00:00:00', ..., 1,\n",
       "        'Intersection', nan]], dtype=object)"
      ]
     },
     "execution_count": 25,
     "metadata": {},
     "output_type": "execute_result"
    }
   ],
   "source": [
    "df.columns\n",
    "df.values"
   ]
  },
  {
   "cell_type": "code",
   "execution_count": 2,
   "metadata": {},
   "outputs": [],
   "source": [
    "\n",
    "dfi = pd.read_csv('datasets/police-department-incidents.csv')\n",
    "#dfi.head()\n",
    "#dfi.tail()\n"
   ]
  },
  {
   "cell_type": "code",
   "execution_count": 3,
   "metadata": {},
   "outputs": [
    {
     "name": "stdout",
     "output_type": "stream",
     "text": [
      "Populating the interactive namespace from numpy and matplotlib\n"
     ]
    }
   ],
   "source": [
    "import pandas as pd\n",
    "import numpy as np\n",
    "import matplotlib as mpl\n",
    "import matplotlib.pyplot as plt\n",
    "%pylab inline\n",
    "%matplotlib inline"
   ]
  },
  {
   "cell_type": "code",
   "execution_count": 4,
   "metadata": {},
   "outputs": [
    {
     "name": "stderr",
     "output_type": "stream",
     "text": [
      "C:\\Users\\ghami\\AppData\\Local\\Continuum\\anaconda3\\lib\\site-packages\\IPython\\core\\interactiveshell.py:2785: DtypeWarning: Columns (31,83,86,87,98,99,109,116,123,124,127,129,130,164) have mixed types. Specify dtype option on import or set low_memory=False.\n",
      "  interactivity=interactivity, compiler=compiler, result=result)\n"
     ]
    },
    {
     "data": {
      "text/html": [
       "<div>\n",
       "<style scoped>\n",
       "    .dataframe tbody tr th:only-of-type {\n",
       "        vertical-align: middle;\n",
       "    }\n",
       "\n",
       "    .dataframe tbody tr th {\n",
       "        vertical-align: top;\n",
       "    }\n",
       "\n",
       "    .dataframe thead th {\n",
       "        text-align: right;\n",
       "    }\n",
       "</style>\n",
       "<table border=\"1\" class=\"dataframe\">\n",
       "  <thead>\n",
       "    <tr style=\"text-align: right;\">\n",
       "      <th></th>\n",
       "      <th>GenderSelect</th>\n",
       "      <th>Country</th>\n",
       "      <th>Age</th>\n",
       "      <th>EmploymentStatus</th>\n",
       "      <th>StudentStatus</th>\n",
       "      <th>LearningDataScience</th>\n",
       "      <th>CodeWriter</th>\n",
       "      <th>CareerSwitcher</th>\n",
       "      <th>CurrentJobTitleSelect</th>\n",
       "      <th>TitleFit</th>\n",
       "      <th>...</th>\n",
       "      <th>JobFactorExperienceLevel</th>\n",
       "      <th>JobFactorDepartment</th>\n",
       "      <th>JobFactorTitle</th>\n",
       "      <th>JobFactorCompanyFunding</th>\n",
       "      <th>JobFactorImpact</th>\n",
       "      <th>JobFactorRemote</th>\n",
       "      <th>JobFactorIndustry</th>\n",
       "      <th>JobFactorLeaderReputation</th>\n",
       "      <th>JobFactorDiversity</th>\n",
       "      <th>JobFactorPublishingOpportunity</th>\n",
       "    </tr>\n",
       "  </thead>\n",
       "  <tbody>\n",
       "    <tr>\n",
       "      <th>0</th>\n",
       "      <td>Non-binary, genderqueer, or gender non-conforming</td>\n",
       "      <td>NaN</td>\n",
       "      <td>NaN</td>\n",
       "      <td>Employed full-time</td>\n",
       "      <td>NaN</td>\n",
       "      <td>NaN</td>\n",
       "      <td>Yes</td>\n",
       "      <td>NaN</td>\n",
       "      <td>DBA/Database Engineer</td>\n",
       "      <td>Fine</td>\n",
       "      <td>...</td>\n",
       "      <td>NaN</td>\n",
       "      <td>NaN</td>\n",
       "      <td>NaN</td>\n",
       "      <td>NaN</td>\n",
       "      <td>NaN</td>\n",
       "      <td>NaN</td>\n",
       "      <td>NaN</td>\n",
       "      <td>NaN</td>\n",
       "      <td>NaN</td>\n",
       "      <td>NaN</td>\n",
       "    </tr>\n",
       "    <tr>\n",
       "      <th>1</th>\n",
       "      <td>Female</td>\n",
       "      <td>United States</td>\n",
       "      <td>30.0</td>\n",
       "      <td>Not employed, but looking for work</td>\n",
       "      <td>NaN</td>\n",
       "      <td>NaN</td>\n",
       "      <td>NaN</td>\n",
       "      <td>NaN</td>\n",
       "      <td>NaN</td>\n",
       "      <td>NaN</td>\n",
       "      <td>...</td>\n",
       "      <td>NaN</td>\n",
       "      <td>NaN</td>\n",
       "      <td>NaN</td>\n",
       "      <td>NaN</td>\n",
       "      <td>NaN</td>\n",
       "      <td>NaN</td>\n",
       "      <td>NaN</td>\n",
       "      <td>Somewhat important</td>\n",
       "      <td>NaN</td>\n",
       "      <td>NaN</td>\n",
       "    </tr>\n",
       "    <tr>\n",
       "      <th>2</th>\n",
       "      <td>Male</td>\n",
       "      <td>Canada</td>\n",
       "      <td>28.0</td>\n",
       "      <td>Not employed, but looking for work</td>\n",
       "      <td>NaN</td>\n",
       "      <td>NaN</td>\n",
       "      <td>NaN</td>\n",
       "      <td>NaN</td>\n",
       "      <td>NaN</td>\n",
       "      <td>NaN</td>\n",
       "      <td>...</td>\n",
       "      <td>Very Important</td>\n",
       "      <td>Very Important</td>\n",
       "      <td>Very Important</td>\n",
       "      <td>Very Important</td>\n",
       "      <td>Very Important</td>\n",
       "      <td>Very Important</td>\n",
       "      <td>Very Important</td>\n",
       "      <td>Very Important</td>\n",
       "      <td>Very Important</td>\n",
       "      <td>Very Important</td>\n",
       "    </tr>\n",
       "    <tr>\n",
       "      <th>3</th>\n",
       "      <td>Male</td>\n",
       "      <td>United States</td>\n",
       "      <td>56.0</td>\n",
       "      <td>Independent contractor, freelancer, or self-em...</td>\n",
       "      <td>NaN</td>\n",
       "      <td>NaN</td>\n",
       "      <td>Yes</td>\n",
       "      <td>NaN</td>\n",
       "      <td>Operations Research Practitioner</td>\n",
       "      <td>Poorly</td>\n",
       "      <td>...</td>\n",
       "      <td>NaN</td>\n",
       "      <td>NaN</td>\n",
       "      <td>NaN</td>\n",
       "      <td>NaN</td>\n",
       "      <td>NaN</td>\n",
       "      <td>NaN</td>\n",
       "      <td>NaN</td>\n",
       "      <td>NaN</td>\n",
       "      <td>NaN</td>\n",
       "      <td>NaN</td>\n",
       "    </tr>\n",
       "    <tr>\n",
       "      <th>4</th>\n",
       "      <td>Male</td>\n",
       "      <td>Taiwan</td>\n",
       "      <td>38.0</td>\n",
       "      <td>Employed full-time</td>\n",
       "      <td>NaN</td>\n",
       "      <td>NaN</td>\n",
       "      <td>Yes</td>\n",
       "      <td>NaN</td>\n",
       "      <td>Computer Scientist</td>\n",
       "      <td>Fine</td>\n",
       "      <td>...</td>\n",
       "      <td>NaN</td>\n",
       "      <td>NaN</td>\n",
       "      <td>NaN</td>\n",
       "      <td>NaN</td>\n",
       "      <td>NaN</td>\n",
       "      <td>NaN</td>\n",
       "      <td>NaN</td>\n",
       "      <td>NaN</td>\n",
       "      <td>NaN</td>\n",
       "      <td>NaN</td>\n",
       "    </tr>\n",
       "  </tbody>\n",
       "</table>\n",
       "<p>5 rows × 228 columns</p>\n",
       "</div>"
      ],
      "text/plain": [
       "                                        GenderSelect        Country   Age  \\\n",
       "0  Non-binary, genderqueer, or gender non-conforming            NaN   NaN   \n",
       "1                                             Female  United States  30.0   \n",
       "2                                               Male         Canada  28.0   \n",
       "3                                               Male  United States  56.0   \n",
       "4                                               Male         Taiwan  38.0   \n",
       "\n",
       "                                    EmploymentStatus StudentStatus  \\\n",
       "0                                 Employed full-time           NaN   \n",
       "1                 Not employed, but looking for work           NaN   \n",
       "2                 Not employed, but looking for work           NaN   \n",
       "3  Independent contractor, freelancer, or self-em...           NaN   \n",
       "4                                 Employed full-time           NaN   \n",
       "\n",
       "  LearningDataScience CodeWriter CareerSwitcher  \\\n",
       "0                 NaN        Yes            NaN   \n",
       "1                 NaN        NaN            NaN   \n",
       "2                 NaN        NaN            NaN   \n",
       "3                 NaN        Yes            NaN   \n",
       "4                 NaN        Yes            NaN   \n",
       "\n",
       "              CurrentJobTitleSelect TitleFit              ...                \\\n",
       "0             DBA/Database Engineer     Fine              ...                 \n",
       "1                               NaN      NaN              ...                 \n",
       "2                               NaN      NaN              ...                 \n",
       "3  Operations Research Practitioner   Poorly              ...                 \n",
       "4                Computer Scientist     Fine              ...                 \n",
       "\n",
       "  JobFactorExperienceLevel JobFactorDepartment  JobFactorTitle  \\\n",
       "0                      NaN                 NaN             NaN   \n",
       "1                      NaN                 NaN             NaN   \n",
       "2           Very Important      Very Important  Very Important   \n",
       "3                      NaN                 NaN             NaN   \n",
       "4                      NaN                 NaN             NaN   \n",
       "\n",
       "  JobFactorCompanyFunding JobFactorImpact JobFactorRemote JobFactorIndustry  \\\n",
       "0                     NaN             NaN             NaN               NaN   \n",
       "1                     NaN             NaN             NaN               NaN   \n",
       "2          Very Important  Very Important  Very Important    Very Important   \n",
       "3                     NaN             NaN             NaN               NaN   \n",
       "4                     NaN             NaN             NaN               NaN   \n",
       "\n",
       "  JobFactorLeaderReputation JobFactorDiversity JobFactorPublishingOpportunity  \n",
       "0                       NaN                NaN                            NaN  \n",
       "1        Somewhat important                NaN                            NaN  \n",
       "2            Very Important     Very Important                 Very Important  \n",
       "3                       NaN                NaN                            NaN  \n",
       "4                       NaN                NaN                            NaN  \n",
       "\n",
       "[5 rows x 228 columns]"
      ]
     },
     "execution_count": 4,
     "metadata": {},
     "output_type": "execute_result"
    }
   ],
   "source": [
    "#responses = pd.read_csv(\"freeformResponses.csv\")\n",
    "df_responses = pd.read_csv(\"multipleChoiceResponses.csv\",encoding='ISO-8859-1')\n",
    "\n",
    "#multipleChoiceResponses\n",
    "df_responses.head()"
   ]
  },
  {
   "cell_type": "code",
   "execution_count": 21,
   "metadata": {},
   "outputs": [
    {
     "data": {
      "text/plain": [
       "GenderSelect                                  95\n",
       "Country                                      121\n",
       "Age                                          331\n",
       "EmploymentStatus                               0\n",
       "StudentStatus                              15436\n",
       "LearningDataScience                        15432\n",
       "CodeWriter                                  3530\n",
       "CareerSwitcher                             13704\n",
       "CurrentJobTitleSelect                       4886\n",
       "TitleFit                                    5212\n",
       "CurrentEmployerType                         5115\n",
       "MLToolNextYearSelect                        5718\n",
       "MLMethodNextYearSelect                      5883\n",
       "LanguageRecommendationSelect                5718\n",
       "PublicDatasetsSelect                        5920\n",
       "LearningPlatformSelect                      5445\n",
       "LearningPlatformUsefulnessArxiv            14325\n",
       "LearningPlatformUsefulnessBlogs            11951\n",
       "LearningPlatformUsefulnessCollege          13357\n",
       "LearningPlatformUsefulnessCompany          15735\n",
       "LearningPlatformUsefulnessConferences      14534\n",
       "LearningPlatformUsefulnessFriends          15135\n",
       "LearningPlatformUsefulnessKaggle           10133\n",
       "LearningPlatformUsefulnessNewsletters      15627\n",
       "LearningPlatformUsefulnessCommunities      15574\n",
       "LearningPlatformUsefulnessDocumentation    14395\n",
       "LearningPlatformUsefulnessCourses          10724\n",
       "LearningPlatformUsefulnessProjects         11922\n",
       "LearningPlatformUsefulnessPodcasts         15502\n",
       "LearningPlatformUsefulnessSO               11076\n",
       "                                           ...  \n",
       "WorkMLTeamSeatSelect                       10028\n",
       "WorkDatasets                               14541\n",
       "WorkDatasetsChallenge                      14152\n",
       "WorkDataStorage                            10201\n",
       "WorkDataSharing                            10214\n",
       "WorkDataSourcing                           16337\n",
       "WorkCodeSharing                            10513\n",
       "RemoteWork                                 10619\n",
       "CompensationAmount                         11492\n",
       "CompensationCurrency                       12186\n",
       "SalaryChange                               10327\n",
       "JobSatisfaction                            10039\n",
       "JobSearchResource                          12977\n",
       "JobHuntTime                                12985\n",
       "JobFactorLearning                          13165\n",
       "JobFactorSalary                            13231\n",
       "JobFactorOffice                            13248\n",
       "JobFactorLanguages                         13241\n",
       "JobFactorCommute                           13269\n",
       "JobFactorManagement                        13282\n",
       "JobFactorExperienceLevel                   13279\n",
       "JobFactorDepartment                        13300\n",
       "JobFactorTitle                             13302\n",
       "JobFactorCompanyFunding                    13305\n",
       "JobFactorImpact                            13322\n",
       "JobFactorRemote                            13292\n",
       "JobFactorIndustry                          13307\n",
       "JobFactorLeaderReputation                  13315\n",
       "JobFactorDiversity                         13306\n",
       "JobFactorPublishingOpportunity             13292\n",
       "Length: 228, dtype: int64"
      ]
     },
     "execution_count": 21,
     "metadata": {},
     "output_type": "execute_result"
    }
   ],
   "source": [
    "df_responses.isnull().sum()"
   ]
  },
  {
   "cell_type": "code",
   "execution_count": 32,
   "metadata": {},
   "outputs": [
    {
     "data": {
      "text/plain": [
       "Index(['GenderSelect', 'Country', 'Age', 'EmploymentStatus', 'StudentStatus',\n",
       "       'LearningDataScience', 'CodeWriter', 'CareerSwitcher',\n",
       "       'CurrentJobTitleSelect', 'TitleFit',\n",
       "       ...\n",
       "       'JobFactorExperienceLevel', 'JobFactorDepartment', 'JobFactorTitle',\n",
       "       'JobFactorCompanyFunding', 'JobFactorImpact', 'JobFactorRemote',\n",
       "       'JobFactorIndustry', 'JobFactorLeaderReputation', 'JobFactorDiversity',\n",
       "       'JobFactorPublishingOpportunity'],\n",
       "      dtype='object', length=228)"
      ]
     },
     "execution_count": 32,
     "metadata": {},
     "output_type": "execute_result"
    }
   ],
   "source": [
    "df_responses.columns"
   ]
  },
  {
   "cell_type": "code",
   "execution_count": 5,
   "metadata": {},
   "outputs": [
    {
     "data": {
      "text/plain": [
       "(16716, 228)"
      ]
     },
     "execution_count": 5,
     "metadata": {},
     "output_type": "execute_result"
    }
   ],
   "source": [
    "df_responses.shape"
   ]
  },
  {
   "cell_type": "code",
   "execution_count": 5,
   "metadata": {},
   "outputs": [
    {
     "data": {
      "text/plain": [
       "EmploymentStatus                 0.000000\n",
       "GenderSelect                     0.005683\n",
       "Country                          0.007239\n",
       "Age                              0.019801\n",
       "FormalEducation                  0.101759\n",
       "FirstTrainingSelect              0.119885\n",
       "PastJobTitlesSelect              0.150993\n",
       "Tenure                           0.190476\n",
       "MajorSelect                      0.205492\n",
       "CodeWriter                       0.211175\n",
       "LearningCategoryKaggle           0.214764\n",
       "LearningCategoryOnlineCourses    0.214764\n",
       "LearningCategoryUniversity       0.215004\n",
       "LearningCategoryWork             0.215662\n",
       "LearningCategorySelftTaught      0.215781\n",
       "LearningCategoryOther            0.216679\n",
       "MLSkillsSelect                   0.237078\n",
       "DataScienceIdentitySelect        0.241984\n",
       "ParentsEducation                 0.242163\n",
       "MLTechniquesSelect               0.247188\n",
       "Name: Percent, dtype: float64"
      ]
     },
     "execution_count": 5,
     "metadata": {},
     "output_type": "execute_result"
    }
   ],
   "source": [
    "\n",
    "total=df_responses.isnull().sum().sort_values(ascending=False)\n",
    "percent=df_responses.isnull().sum()/df_responses.isnull().count().sort_values(ascending=False)\n",
    "missing_data=pd.concat([total,percent],axis=1, keys=['Total','Percent'],sort=True)\n",
    "missing_data.Percent.sort_values().head(20)"
   ]
  },
  {
   "cell_type": "code",
   "execution_count": 6,
   "metadata": {},
   "outputs": [
    {
     "data": {
      "text/plain": [
       "<matplotlib.collections.PathCollection at 0x172b5b163c8>"
      ]
     },
     "execution_count": 6,
     "metadata": {},
     "output_type": "execute_result"
    },
    {
     "data": {
      "image/png": "[encoded data removed]",
      "text/plain": [
       "<Figure size 432x288 with 1 Axes>"
      ]
     },
     "metadata": {},
     "output_type": "display_data"
    }
   ],
   "source": [
    "plt.scatter( df_responses.Age, df_responses.EmploymentStatus,alpha=0.05)\n"
   ]
  },
  {
   "cell_type": "code",
   "execution_count": 7,
   "metadata": {},
   "outputs": [
    {
     "data": {
      "text/html": [
       "<div>\n",
       "<style scoped>\n",
       "    .dataframe tbody tr th:only-of-type {\n",
       "        vertical-align: middle;\n",
       "    }\n",
       "\n",
       "    .dataframe tbody tr th {\n",
       "        vertical-align: top;\n",
       "    }\n",
       "\n",
       "    .dataframe thead th {\n",
       "        text-align: right;\n",
       "    }\n",
       "</style>\n",
       "<table border=\"1\" class=\"dataframe\">\n",
       "  <thead>\n",
       "    <tr style=\"text-align: right;\">\n",
       "      <th>GenderSelect</th>\n",
       "      <th>A different identity</th>\n",
       "      <th>Female</th>\n",
       "      <th>Male</th>\n",
       "      <th>Non-binary, genderqueer, or gender non-conforming</th>\n",
       "      <th>All</th>\n",
       "    </tr>\n",
       "    <tr>\n",
       "      <th>EmploymentStatus</th>\n",
       "      <th></th>\n",
       "      <th></th>\n",
       "      <th></th>\n",
       "      <th></th>\n",
       "      <th></th>\n",
       "    </tr>\n",
       "  </thead>\n",
       "  <tbody>\n",
       "    <tr>\n",
       "      <th>Employed full-time</th>\n",
       "      <td>0.597484</td>\n",
       "      <td>0.590713</td>\n",
       "      <td>0.666716</td>\n",
       "      <td>0.581081</td>\n",
       "      <td>0.652969</td>\n",
       "    </tr>\n",
       "    <tr>\n",
       "      <th>Employed part-time</th>\n",
       "      <td>0.062893</td>\n",
       "      <td>0.080634</td>\n",
       "      <td>0.049522</td>\n",
       "      <td>0.027027</td>\n",
       "      <td>0.054750</td>\n",
       "    </tr>\n",
       "    <tr>\n",
       "      <th>I prefer not to say</th>\n",
       "      <td>0.094340</td>\n",
       "      <td>0.032397</td>\n",
       "      <td>0.021602</td>\n",
       "      <td>0.067568</td>\n",
       "      <td>0.024307</td>\n",
       "    </tr>\n",
       "    <tr>\n",
       "      <th>Independent contractor, freelancer, or self-employed</th>\n",
       "      <td>0.088050</td>\n",
       "      <td>0.059395</td>\n",
       "      <td>0.083101</td>\n",
       "      <td>0.148649</td>\n",
       "      <td>0.079478</td>\n",
       "    </tr>\n",
       "    <tr>\n",
       "      <th>Not employed, and not looking for work</th>\n",
       "      <td>0.069182</td>\n",
       "      <td>0.068395</td>\n",
       "      <td>0.052461</td>\n",
       "      <td>0.054054</td>\n",
       "      <td>0.055291</td>\n",
       "    </tr>\n",
       "    <tr>\n",
       "      <th>Not employed, but looking for work</th>\n",
       "      <td>0.050314</td>\n",
       "      <td>0.165947</td>\n",
       "      <td>0.119251</td>\n",
       "      <td>0.081081</td>\n",
       "      <td>0.126226</td>\n",
       "    </tr>\n",
       "    <tr>\n",
       "      <th>Retired</th>\n",
       "      <td>0.037736</td>\n",
       "      <td>0.002520</td>\n",
       "      <td>0.007348</td>\n",
       "      <td>0.040541</td>\n",
       "      <td>0.006979</td>\n",
       "    </tr>\n",
       "    <tr>\n",
       "      <th>All</th>\n",
       "      <td>1.000000</td>\n",
       "      <td>1.000000</td>\n",
       "      <td>1.000000</td>\n",
       "      <td>1.000000</td>\n",
       "      <td>1.000000</td>\n",
       "    </tr>\n",
       "  </tbody>\n",
       "</table>\n",
       "</div>"
      ],
      "text/plain": [
       "GenderSelect                                        A different identity  \\\n",
       "EmploymentStatus                                                           \n",
       "Employed full-time                                              0.597484   \n",
       "Employed part-time                                              0.062893   \n",
       "I prefer not to say                                             0.094340   \n",
       "Independent contractor, freelancer, or self-emp...              0.088050   \n",
       "Not employed, and not looking for work                          0.069182   \n",
       "Not employed, but looking for work                              0.050314   \n",
       "Retired                                                         0.037736   \n",
       "All                                                             1.000000   \n",
       "\n",
       "GenderSelect                                          Female      Male  \\\n",
       "EmploymentStatus                                                         \n",
       "Employed full-time                                  0.590713  0.666716   \n",
       "Employed part-time                                  0.080634  0.049522   \n",
       "I prefer not to say                                 0.032397  0.021602   \n",
       "Independent contractor, freelancer, or self-emp...  0.059395  0.083101   \n",
       "Not employed, and not looking for work              0.068395  0.052461   \n",
       "Not employed, but looking for work                  0.165947  0.119251   \n",
       "Retired                                             0.002520  0.007348   \n",
       "All                                                 1.000000  1.000000   \n",
       "\n",
       "GenderSelect                                        Non-binary, genderqueer, or gender non-conforming  \\\n",
       "EmploymentStatus                                                                                        \n",
       "Employed full-time                                                                           0.581081   \n",
       "Employed part-time                                                                           0.027027   \n",
       "I prefer not to say                                                                          0.067568   \n",
       "Independent contractor, freelancer, or self-emp...                                           0.148649   \n",
       "Not employed, and not looking for work                                                       0.054054   \n",
       "Not employed, but looking for work                                                           0.081081   \n",
       "Retired                                                                                      0.040541   \n",
       "All                                                                                          1.000000   \n",
       "\n",
       "GenderSelect                                             All  \n",
       "EmploymentStatus                                              \n",
       "Employed full-time                                  0.652969  \n",
       "Employed part-time                                  0.054750  \n",
       "I prefer not to say                                 0.024307  \n",
       "Independent contractor, freelancer, or self-emp...  0.079478  \n",
       "Not employed, and not looking for work              0.055291  \n",
       "Not employed, but looking for work                  0.126226  \n",
       "Retired                                             0.006979  \n",
       "All                                                 1.000000  "
      ]
     },
     "execution_count": 7,
     "metadata": {},
     "output_type": "execute_result"
    }
   ],
   "source": [
    "#plt.scatter( df_responses.GenderSelect, df_responses.LearningDataScience,alpha=0.05)\n",
    "#df_responses.GenderSelect\n",
    "#crosstab(titanic_df.Survived,titanic_df.Sex,normalize=True, margins=True)\n",
    "Employed_By_Gender = pd.crosstab(df_responses.EmploymentStatus,df_responses.GenderSelect,normalize=True, margins=True)\n",
    "Employed_By_Gender\n",
    "Employed_By_Gender/Employed_By_Gender.loc['All']\n"
   ]
  },
  {
   "cell_type": "code",
   "execution_count": 8,
   "metadata": {},
   "outputs": [
    {
     "data": {
      "image/png": "[encoded data removed]",
      "text/plain": [
       "<Figure size 576x576 with 1 Axes>"
      ]
     },
     "metadata": {},
     "output_type": "display_data"
    },
    {
     "name": "stdout",
     "output_type": "stream",
     "text": [
      "Proportion of women in this survey: 16.71% \n",
      "Proportion of men in this survey: 81.88% \n"
     ]
    }
   ],
   "source": [
    "\n",
    "plt.figure(figsize=(8,8))\n",
    "gender=df_responses['GenderSelect'].value_counts()\n",
    "plt.pie(gender,labels=gender.index,autopct='%.1f%%')\n",
    "centre_circle = plt.Circle((0,0),0.75,color='black', fc='white',linewidth=1.25)\n",
    "plt.title('Gender Distribution')\n",
    "\n",
    "plt.show()\n",
    "print('Proportion of women in this survey: {:0.2f}% '.format(100*len(df_responses[df_responses['GenderSelect']=='Female'])/len(df_responses['GenderSelect'].dropna())))\n",
    "print('Proportion of men in this survey: {:0.2f}% '.format(100*len(df_responses[df_responses['GenderSelect']=='Male'])/len(df_responses['GenderSelect'].dropna())))"
   ]
  },
  {
   "cell_type": "code",
   "execution_count": 9,
   "metadata": {},
   "outputs": [
    {
     "data": {
      "image/png": "[encoded data removed]",
      "text/plain": [
       "<Figure size 720x720 with 1 Axes>"
      ]
     },
     "metadata": {},
     "output_type": "display_data"
    }
   ],
   "source": [
    "\n",
    "education=df_responses['FormalEducation'].value_counts().sort_values()[:6]\n",
    "plt.figure(figsize=(10,10))\n",
    "plt.pie(x=education,labels=education.index,autopct='%.1f%%')\n",
    "centre_circle = plt.Circle((0,0),0.75,color='black', fc='white',linewidth=1.25)\n",
    "fig = plt.gcf()\n",
    "fig.gca().add_artist(centre_circle)\n",
    "plt.title('Highest Degree achieved by the participants')\n",
    "plt.show()"
   ]
  },
  {
   "cell_type": "code",
   "execution_count": 10,
   "metadata": {},
   "outputs": [
    {
     "data": {
      "image/png": "[encoded data removed]",
      "text/plain": [
       "<Figure size 720x720 with 1 Axes>"
      ]
     },
     "metadata": {},
     "output_type": "display_data"
    },
    {
     "name": "stdout",
     "output_type": "stream",
     "text": [
      "25.11% of the instances are Americans\n",
      "16.18% of the instances are Indians\n",
      "31.10% of the instances are contributed by top 5 countries\n"
     ]
    }
   ],
   "source": [
    "import seaborn as sns\n",
    "country=df_responses['Country'].value_counts().sort_values().tail(20)\n",
    "plt.figure(figsize=(10,10))\n",
    "sns.barplot(y=country.index, x=country.values,alpha=0.9)\n",
    "for spine in plt.gca().spines.values():\n",
    "    spine.set_visible(False)\n",
    "plt.title('Nationality Distributions')\n",
    "plt.show();\n",
    "top_5=0\n",
    "for i in [1,2,4,5,6]:\n",
    "    top_5=top_5+country.sort_values(ascending=False)[i]\n",
    "top_5=100*(top_5/len(df_responses))\n",
    "print('{:0.2f}% of the instances are Americans'.format(100*len(df_responses[df_responses['Country']=='United States'])/len(df_responses)))\n",
    "print('{:0.2f}% of the instances are Indians'.format(100*len(df_responses[df_responses['Country']=='India'])/len(df_responses)))\n",
    "print('{:0.2f}% of the instances are contributed by top 5 countries'.format(top_5))"
   ]
  },
  {
   "cell_type": "code",
   "execution_count": 11,
   "metadata": {},
   "outputs": [
    {
     "data": {
      "image/png": "[encoded data removed]",
      "text/plain": [
       "<Figure size 720x720 with 1 Axes>"
      ]
     },
     "metadata": {},
     "output_type": "display_data"
    }
   ],
   "source": [
    "\n",
    "employment=df_responses['EmploymentStatus'].value_counts()\n",
    "employment_df=pd.DataFrame(employment)\n",
    "n_employed= employment[0]+employment[2]+employment[4]\n",
    "n_unemployed=employment[1]+employment[3]\n",
    "x=[n_employed,n_unemployed]\n",
    "plt.figure(figsize=(10,10))\n",
    "plt.pie(x=x,labels=['employed','unemployed'],autopct='%1.1f%%')\n",
    "plt.title(\"Employed vs Unemployed\")\n",
    "plt.show();"
   ]
  },
  {
   "cell_type": "code",
   "execution_count": 12,
   "metadata": {},
   "outputs": [
    {
     "data": {
      "text/html": [
       "<div>\n",
       "<style scoped>\n",
       "    .dataframe tbody tr th:only-of-type {\n",
       "        vertical-align: middle;\n",
       "    }\n",
       "\n",
       "    .dataframe tbody tr th {\n",
       "        vertical-align: top;\n",
       "    }\n",
       "\n",
       "    .dataframe thead th {\n",
       "        text-align: right;\n",
       "    }\n",
       "</style>\n",
       "<table border=\"1\" class=\"dataframe\">\n",
       "  <thead>\n",
       "    <tr style=\"text-align: right;\">\n",
       "      <th></th>\n",
       "      <th>EmploymentStatus</th>\n",
       "    </tr>\n",
       "  </thead>\n",
       "  <tbody>\n",
       "    <tr>\n",
       "      <th>Employed full-time</th>\n",
       "      <td>10897</td>\n",
       "    </tr>\n",
       "    <tr>\n",
       "      <th>Not employed, but looking for work</th>\n",
       "      <td>2110</td>\n",
       "    </tr>\n",
       "    <tr>\n",
       "      <th>Independent contractor, freelancer, or self-employed</th>\n",
       "      <td>1330</td>\n",
       "    </tr>\n",
       "    <tr>\n",
       "      <th>Not employed, and not looking for work</th>\n",
       "      <td>924</td>\n",
       "    </tr>\n",
       "    <tr>\n",
       "      <th>Employed part-time</th>\n",
       "      <td>917</td>\n",
       "    </tr>\n",
       "    <tr>\n",
       "      <th>I prefer not to say</th>\n",
       "      <td>420</td>\n",
       "    </tr>\n",
       "    <tr>\n",
       "      <th>Retired</th>\n",
       "      <td>118</td>\n",
       "    </tr>\n",
       "  </tbody>\n",
       "</table>\n",
       "</div>"
      ],
      "text/plain": [
       "                                                    EmploymentStatus\n",
       "Employed full-time                                             10897\n",
       "Not employed, but looking for work                              2110\n",
       "Independent contractor, freelancer, or self-emp...              1330\n",
       "Not employed, and not looking for work                           924\n",
       "Employed part-time                                               917\n",
       "I prefer not to say                                              420\n",
       "Retired                                                          118"
      ]
     },
     "execution_count": 12,
     "metadata": {},
     "output_type": "execute_result"
    }
   ],
   "source": [
    "\n",
    "employment=df_responses['EmploymentStatus'].value_counts()\n",
    "employment_df=pd.DataFrame(employment)\n",
    "employment_df"
   ]
  },
  {
   "cell_type": "code",
   "execution_count": 49,
   "metadata": {},
   "outputs": [
    {
     "data": {
      "text/plain": [
       "EmploymentStatus                 0.000000\n",
       "GenderSelect                     0.005683\n",
       "Country                          0.007239\n",
       "Age                              0.019801\n",
       "FormalEducation                  0.101759\n",
       "FirstTrainingSelect              0.119885\n",
       "PastJobTitlesSelect              0.150993\n",
       "Tenure                           0.190476\n",
       "MajorSelect                      0.205492\n",
       "CodeWriter                       0.211175\n",
       "LearningCategoryKaggle           0.214764\n",
       "LearningCategoryOnlineCourses    0.214764\n",
       "LearningCategoryUniversity       0.215004\n",
       "LearningCategoryWork             0.215662\n",
       "LearningCategorySelftTaught      0.215781\n",
       "LearningCategoryOther            0.216679\n",
       "MLSkillsSelect                   0.237078\n",
       "DataScienceIdentitySelect        0.241984\n",
       "ParentsEducation                 0.242163\n",
       "MLTechniquesSelect               0.247188\n",
       "Name: Percent, dtype: float64"
      ]
     },
     "execution_count": 49,
     "metadata": {},
     "output_type": "execute_result"
    }
   ],
   "source": [
    "\n",
    "total=df_responses.isnull().sum().sort_values(ascending=False)\n",
    "percent=df_responses.isnull().sum()/df_responses.isnull().count().sort_values(ascending=False)\n",
    "missing_data=pd.concat([total,percent],axis=1, keys=['Total','Percent'],sort=True)\n",
    "missing_data.Percent.sort_values().head(20)"
   ]
  },
  {
   "cell_type": "code",
   "execution_count": 42,
   "metadata": {},
   "outputs": [
    {
     "data": {
      "text/plain": [
       "Age                                       False\n",
       "AlgorithmUnderstandingLevel                True\n",
       "BlogsPodcastsNewslettersSelect             True\n",
       "CareerSwitcher                             True\n",
       "CodeWriter                                 True\n",
       "CompensationAmount                         True\n",
       "CompensationCurrency                       True\n",
       "Country                                   False\n",
       "CoursePlatformSelect                       True\n",
       "CurrentEmployerType                        True\n",
       "CurrentJobTitleSelect                      True\n",
       "DataScienceIdentitySelect                  True\n",
       "EmployerIndustry                           True\n",
       "EmployerMLTime                             True\n",
       "EmployerSearchMethod                       True\n",
       "EmployerSize                               True\n",
       "EmployerSizeChange                         True\n",
       "EmploymentStatus                          False\n",
       "FirstTrainingSelect                       False\n",
       "FormalEducation                           False\n",
       "GenderSelect                              False\n",
       "HardwarePersonalProjectsSelect             True\n",
       "JobFactorCommute                           True\n",
       "JobFactorCompanyFunding                    True\n",
       "JobFactorDepartment                        True\n",
       "JobFactorDiversity                         True\n",
       "JobFactorExperienceLevel                   True\n",
       "JobFactorImpact                            True\n",
       "JobFactorIndustry                          True\n",
       "JobFactorLanguages                         True\n",
       "                                          ...  \n",
       "WorkToolsFrequencyMATLAB                   True\n",
       "WorkToolsFrequencyMathematica              True\n",
       "WorkToolsFrequencyMicrosoftRServer         True\n",
       "WorkToolsFrequencyMicrosoftSQL             True\n",
       "WorkToolsFrequencyMinitab                  True\n",
       "WorkToolsFrequencyNoSQL                    True\n",
       "WorkToolsFrequencyOracle                   True\n",
       "WorkToolsFrequencyOrange                   True\n",
       "WorkToolsFrequencyPerl                     True\n",
       "WorkToolsFrequencyPython                   True\n",
       "WorkToolsFrequencyQlik                     True\n",
       "WorkToolsFrequencyR                        True\n",
       "WorkToolsFrequencyRapidMinerCommercial     True\n",
       "WorkToolsFrequencyRapidMinerFree           True\n",
       "WorkToolsFrequencySAPBusinessObjects       True\n",
       "WorkToolsFrequencySASBase                  True\n",
       "WorkToolsFrequencySASEnterprise            True\n",
       "WorkToolsFrequencySASJMP                   True\n",
       "WorkToolsFrequencySQL                      True\n",
       "WorkToolsFrequencySalfrod                  True\n",
       "WorkToolsFrequencySelect1                  True\n",
       "WorkToolsFrequencySelect2                  True\n",
       "WorkToolsFrequencySpark                    True\n",
       "WorkToolsFrequencyStan                     True\n",
       "WorkToolsFrequencyStatistica               True\n",
       "WorkToolsFrequencyTIBCO                    True\n",
       "WorkToolsFrequencyTableau                  True\n",
       "WorkToolsFrequencyTensorFlow               True\n",
       "WorkToolsFrequencyUnix                     True\n",
       "WorkToolsSelect                            True\n",
       "Name: Percent, Length: 228, dtype: bool"
      ]
     },
     "execution_count": 42,
     "metadata": {},
     "output_type": "execute_result"
    }
   ],
   "source": [
    "missing_data.Percent1=0\n",
    "missing_data.Percent1=missing_data.Percent<0.15\n",
    "missing_data.Percent1"
   ]
  },
  {
   "cell_type": "code",
   "execution_count": null,
   "metadata": {},
   "outputs": [],
   "source": []
  }
 ],
 "metadata": {
  "kernelspec": {
   "display_name": "Python 3",
   "language": "python",
   "name": "python3"
  },
  "language_info": {
   "codemirror_mode": {
    "name": "ipython",
    "version": 3
   },
   "file_extension": ".py",
   "mimetype": "text/x-python",
   "name": "python",
   "nbconvert_exporter": "python",
   "pygments_lexer": "ipython3",
   "version": "3.6.5"
  }
 },
 "nbformat": 4,
 "nbformat_minor": 2
}
